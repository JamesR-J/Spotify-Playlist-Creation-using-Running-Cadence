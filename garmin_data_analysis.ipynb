{
 "cells": [
  {
   "cell_type": "markdown",
   "id": "cce12b32",
   "metadata": {},
   "source": [
    "# Analysing Garmin Data"
   ]
  },
  {
   "cell_type": "code",
   "execution_count": 17,
   "id": "dd1fc616",
   "metadata": {},
   "outputs": [],
   "source": [
    "import pandas as pd\n",
    "import matplotlib.pyplot as plt\n",
    "import numpy as np"
   ]
  },
  {
   "cell_type": "markdown",
   "id": "502cca71",
   "metadata": {},
   "source": [
    "## Importing Garmin Data"
   ]
  },
  {
   "cell_type": "markdown",
   "id": "d5d6c94b",
   "metadata": {},
   "source": [
    "Due to strava currently not having the ability to recieve average cadence from runs, data from my running watch via Garmin Connect is used instead.\n",
    "\n",
    "To download your garmin profile activites there is a great script here:\n",
    "[garmin-connect-export script](https://github.com/pe-st/garmin-connect-export/)\n",
    "\n",
    "Unfortunately due to my running watch being fairly new, combined with recovering from Covid/too many isolations to count/Summer hols there isn't much data !!! I will build on it when I get make to running properly as the new Uni term starts.\n",
    "\n",
    "The garmin watch isn't very accurate at measuring running cadence so there are outliers in the data (I think). To improve this cadence tracking devices can be bought!"
   ]
  },
  {
   "cell_type": "code",
   "execution_count": 18,
   "id": "a53fd69b",
   "metadata": {},
   "outputs": [
    {
     "name": "stdout",
     "output_type": "stream",
     "text": [
      "<class 'pandas.core.frame.DataFrame'>\n",
      "RangeIndex: 61 entries, 0 to 60\n",
      "Data columns (total 50 columns):\n",
      " #   Column                                 Non-Null Count  Dtype  \n",
      "---  ------                                 --------------  -----  \n",
      " 0   Start Time                             61 non-null     object \n",
      " 1   End Time                               61 non-null     object \n",
      " 2   Activity ID                            61 non-null     int64  \n",
      " 3   Activity Name                          61 non-null     object \n",
      " 4   Description                            0 non-null      float64\n",
      " 5   Location Name                          60 non-null     object \n",
      " 6   Time Zone                              61 non-null     object \n",
      " 7   Offset                                 61 non-null     object \n",
      " 8   Duration (h:m:s)                       61 non-null     object \n",
      " 9   Elapsed Duration (h:m:s)               61 non-null     object \n",
      " 10  Moving Duration (h:m:s)                60 non-null     object \n",
      " 11  Activity Parent                        61 non-null     object \n",
      " 12  Activity Type                          61 non-null     object \n",
      " 13  Event Type                             61 non-null     object \n",
      " 14  Device                                 61 non-null     object \n",
      " 15  Gear                                   0 non-null      float64\n",
      " 16  Privacy                                61 non-null     object \n",
      " 17  File Format                            61 non-null     object \n",
      " 18  Distance (km)                          60 non-null     float64\n",
      " 19  Average Speed (km/h)                   60 non-null     float64\n",
      " 20  Average Speed (km/h or min/km)         60 non-null     object \n",
      " 21  Average Moving Speed (km/h)            60 non-null     float64\n",
      " 22  Average Moving Speed (km/h or min/km)  60 non-null     object \n",
      " 23  Max. Speed (km/h)                      60 non-null     float64\n",
      " 24  Max. Speed (km/h or min/km)            60 non-null     object \n",
      " 25  Elevation Gain (m)                     60 non-null     float64\n",
      " 26  Elevation Loss (m)                     60 non-null     float64\n",
      " 27  Elevation Min. (m)                     58 non-null     float64\n",
      " 28  Elevation Max. (m)                     60 non-null     float64\n",
      " 29  Elevation Corrected                    61 non-null     bool   \n",
      " 30  Begin Latitude (Â°DD)                  60 non-null     float64\n",
      " 31  Begin Longitude (Â°DD)                 60 non-null     float64\n",
      " 32  End Latitude (Â°DD)                    60 non-null     float64\n",
      " 33  End Longitude (Â°DD)                   60 non-null     float64\n",
      " 34  Max. Heart Rate (bpm)                  60 non-null     float64\n",
      " 35  Average Heart Rate (bpm)               60 non-null     float64\n",
      " 36  Calories                               60 non-null     float64\n",
      " 37  VO2max                                 19 non-null     float64\n",
      " 38  Aerobic Training Effect                60 non-null     float64\n",
      " 39  Anaerobic Training Effect              51 non-null     float64\n",
      " 40  Avg. Run Cadence                       20 non-null     float64\n",
      " 41  Max. Run Cadence                       20 non-null     float64\n",
      " 42  Stride Length                          19 non-null     float64\n",
      " 43  Steps                                  20 non-null     float64\n",
      " 44  Avg. Cadence (rpm)                     0 non-null      float64\n",
      " 45  Max. Cadence (rpm)                     0 non-null      float64\n",
      " 46  Strokes                                0 non-null      float64\n",
      " 47  Avg. Temp (Â°C)                        0 non-null      float64\n",
      " 48  Min. Temp (Â°C)                        0 non-null      float64\n",
      " 49  Max. Temp (Â°C)                        0 non-null      float64\n",
      "dtypes: bool(1), float64(30), int64(1), object(18)\n",
      "memory usage: 23.5+ KB\n"
     ]
    }
   ],
   "source": [
    "df_activities = pd.read_csv('./garmin-connect-export-3.2.1/2021-09-01_garmin_connect_export/activities.csv')\n",
    "#the folder directory of my garmin csv file\n",
    "df_activities.info()"
   ]
  },
  {
   "cell_type": "code",
   "execution_count": 19,
   "id": "36b94151",
   "metadata": {},
   "outputs": [
    {
     "data": {
      "text/html": [
       "<div>\n",
       "<style scoped>\n",
       "    .dataframe tbody tr th:only-of-type {\n",
       "        vertical-align: middle;\n",
       "    }\n",
       "\n",
       "    .dataframe tbody tr th {\n",
       "        vertical-align: top;\n",
       "    }\n",
       "\n",
       "    .dataframe thead th {\n",
       "        text-align: right;\n",
       "    }\n",
       "</style>\n",
       "<table border=\"1\" class=\"dataframe\">\n",
       "  <thead>\n",
       "    <tr style=\"text-align: right;\">\n",
       "      <th></th>\n",
       "      <th>Start Time</th>\n",
       "      <th>End Time</th>\n",
       "      <th>Activity ID</th>\n",
       "      <th>Activity Name</th>\n",
       "      <th>Description</th>\n",
       "      <th>Location Name</th>\n",
       "      <th>Time Zone</th>\n",
       "      <th>Offset</th>\n",
       "      <th>Duration (h:m:s)</th>\n",
       "      <th>Elapsed Duration (h:m:s)</th>\n",
       "      <th>...</th>\n",
       "      <th>Avg. Run Cadence</th>\n",
       "      <th>Max. Run Cadence</th>\n",
       "      <th>Stride Length</th>\n",
       "      <th>Steps</th>\n",
       "      <th>Avg. Cadence (rpm)</th>\n",
       "      <th>Max. Cadence (rpm)</th>\n",
       "      <th>Strokes</th>\n",
       "      <th>Avg. Temp (Â°C)</th>\n",
       "      <th>Min. Temp (Â°C)</th>\n",
       "      <th>Max. Temp (Â°C)</th>\n",
       "    </tr>\n",
       "  </thead>\n",
       "  <tbody>\n",
       "    <tr>\n",
       "      <th>0</th>\n",
       "      <td>2021-08-28T06:36:22+01:00</td>\n",
       "      <td>2021-08-28T15:51:29+01:00</td>\n",
       "      <td>7386127772</td>\n",
       "      <td>Southampton Cycling</td>\n",
       "      <td>NaN</td>\n",
       "      <td>Southampton</td>\n",
       "      <td>Europe/London</td>\n",
       "      <td>+01:00</td>\n",
       "      <td>05:09:25</td>\n",
       "      <td>09:15:07</td>\n",
       "      <td>...</td>\n",
       "      <td>NaN</td>\n",
       "      <td>NaN</td>\n",
       "      <td>NaN</td>\n",
       "      <td>NaN</td>\n",
       "      <td>NaN</td>\n",
       "      <td>NaN</td>\n",
       "      <td>NaN</td>\n",
       "      <td>NaN</td>\n",
       "      <td>NaN</td>\n",
       "      <td>NaN</td>\n",
       "    </tr>\n",
       "    <tr>\n",
       "      <th>1</th>\n",
       "      <td>2021-08-26T13:53:17+01:00</td>\n",
       "      <td>2021-08-26T16:50:38+01:00</td>\n",
       "      <td>7374120181</td>\n",
       "      <td>Southampton Cycling</td>\n",
       "      <td>NaN</td>\n",
       "      <td>Southampton</td>\n",
       "      <td>Europe/London</td>\n",
       "      <td>+01:00</td>\n",
       "      <td>01:56:55</td>\n",
       "      <td>02:57:21</td>\n",
       "      <td>...</td>\n",
       "      <td>NaN</td>\n",
       "      <td>NaN</td>\n",
       "      <td>NaN</td>\n",
       "      <td>NaN</td>\n",
       "      <td>NaN</td>\n",
       "      <td>NaN</td>\n",
       "      <td>NaN</td>\n",
       "      <td>NaN</td>\n",
       "      <td>NaN</td>\n",
       "      <td>NaN</td>\n",
       "    </tr>\n",
       "    <tr>\n",
       "      <th>2</th>\n",
       "      <td>2021-08-25T11:21:37+01:00</td>\n",
       "      <td>2021-08-25T13:01:34+01:00</td>\n",
       "      <td>7369613058</td>\n",
       "      <td>Southampton Cycling</td>\n",
       "      <td>NaN</td>\n",
       "      <td>Southampton</td>\n",
       "      <td>Europe/London</td>\n",
       "      <td>+01:00</td>\n",
       "      <td>01:32:53</td>\n",
       "      <td>01:39:57</td>\n",
       "      <td>...</td>\n",
       "      <td>NaN</td>\n",
       "      <td>NaN</td>\n",
       "      <td>NaN</td>\n",
       "      <td>NaN</td>\n",
       "      <td>NaN</td>\n",
       "      <td>NaN</td>\n",
       "      <td>NaN</td>\n",
       "      <td>NaN</td>\n",
       "      <td>NaN</td>\n",
       "      <td>NaN</td>\n",
       "    </tr>\n",
       "    <tr>\n",
       "      <th>3</th>\n",
       "      <td>2021-08-22T09:09:19+01:00</td>\n",
       "      <td>2021-08-22T13:02:11+01:00</td>\n",
       "      <td>7349492877</td>\n",
       "      <td>Southampton Cycling</td>\n",
       "      <td>NaN</td>\n",
       "      <td>Southampton</td>\n",
       "      <td>Europe/London</td>\n",
       "      <td>+01:00</td>\n",
       "      <td>02:32:21</td>\n",
       "      <td>03:52:52</td>\n",
       "      <td>...</td>\n",
       "      <td>NaN</td>\n",
       "      <td>NaN</td>\n",
       "      <td>NaN</td>\n",
       "      <td>NaN</td>\n",
       "      <td>NaN</td>\n",
       "      <td>NaN</td>\n",
       "      <td>NaN</td>\n",
       "      <td>NaN</td>\n",
       "      <td>NaN</td>\n",
       "      <td>NaN</td>\n",
       "    </tr>\n",
       "    <tr>\n",
       "      <th>4</th>\n",
       "      <td>2021-07-26T20:21:21+01:00</td>\n",
       "      <td>2021-07-26T20:43:18+01:00</td>\n",
       "      <td>7194590649</td>\n",
       "      <td>Southampton Running</td>\n",
       "      <td>NaN</td>\n",
       "      <td>Southampton</td>\n",
       "      <td>Europe/London</td>\n",
       "      <td>+01:00</td>\n",
       "      <td>00:21:20</td>\n",
       "      <td>00:21:57</td>\n",
       "      <td>...</td>\n",
       "      <td>171.31</td>\n",
       "      <td>230.0</td>\n",
       "      <td>137.07</td>\n",
       "      <td>3644.0</td>\n",
       "      <td>NaN</td>\n",
       "      <td>NaN</td>\n",
       "      <td>NaN</td>\n",
       "      <td>NaN</td>\n",
       "      <td>NaN</td>\n",
       "      <td>NaN</td>\n",
       "    </tr>\n",
       "  </tbody>\n",
       "</table>\n",
       "<p>5 rows × 50 columns</p>\n",
       "</div>"
      ],
      "text/plain": [
       "                  Start Time                   End Time  Activity ID  \\\n",
       "0  2021-08-28T06:36:22+01:00  2021-08-28T15:51:29+01:00   7386127772   \n",
       "1  2021-08-26T13:53:17+01:00  2021-08-26T16:50:38+01:00   7374120181   \n",
       "2  2021-08-25T11:21:37+01:00  2021-08-25T13:01:34+01:00   7369613058   \n",
       "3  2021-08-22T09:09:19+01:00  2021-08-22T13:02:11+01:00   7349492877   \n",
       "4  2021-07-26T20:21:21+01:00  2021-07-26T20:43:18+01:00   7194590649   \n",
       "\n",
       "         Activity Name  Description Location Name      Time Zone  Offset  \\\n",
       "0  Southampton Cycling          NaN   Southampton  Europe/London  +01:00   \n",
       "1  Southampton Cycling          NaN   Southampton  Europe/London  +01:00   \n",
       "2  Southampton Cycling          NaN   Southampton  Europe/London  +01:00   \n",
       "3  Southampton Cycling          NaN   Southampton  Europe/London  +01:00   \n",
       "4  Southampton Running          NaN   Southampton  Europe/London  +01:00   \n",
       "\n",
       "  Duration (h:m:s) Elapsed Duration (h:m:s)  ... Avg. Run Cadence  \\\n",
       "0         05:09:25                 09:15:07  ...              NaN   \n",
       "1         01:56:55                 02:57:21  ...              NaN   \n",
       "2         01:32:53                 01:39:57  ...              NaN   \n",
       "3         02:32:21                 03:52:52  ...              NaN   \n",
       "4         00:21:20                 00:21:57  ...           171.31   \n",
       "\n",
       "  Max. Run Cadence Stride Length   Steps Avg. Cadence (rpm)  \\\n",
       "0              NaN           NaN     NaN                NaN   \n",
       "1              NaN           NaN     NaN                NaN   \n",
       "2              NaN           NaN     NaN                NaN   \n",
       "3              NaN           NaN     NaN                NaN   \n",
       "4            230.0        137.07  3644.0                NaN   \n",
       "\n",
       "   Max. Cadence (rpm) Strokes Avg. Temp (Â°C)  Min. Temp (Â°C)  \\\n",
       "0                 NaN     NaN             NaN              NaN   \n",
       "1                 NaN     NaN             NaN              NaN   \n",
       "2                 NaN     NaN             NaN              NaN   \n",
       "3                 NaN     NaN             NaN              NaN   \n",
       "4                 NaN     NaN             NaN              NaN   \n",
       "\n",
       "   Max. Temp (Â°C)  \n",
       "0              NaN  \n",
       "1              NaN  \n",
       "2              NaN  \n",
       "3              NaN  \n",
       "4              NaN  \n",
       "\n",
       "[5 rows x 50 columns]"
      ]
     },
     "execution_count": 19,
     "metadata": {},
     "output_type": "execute_result"
    }
   ],
   "source": [
    "df_activities.head()"
   ]
  },
  {
   "cell_type": "markdown",
   "id": "fcb2caae",
   "metadata": {},
   "source": [
    "## Extracting Running Data"
   ]
  },
  {
   "cell_type": "code",
   "execution_count": 20,
   "id": "6f14f8e9",
   "metadata": {},
   "outputs": [
    {
     "data": {
      "text/html": [
       "<div>\n",
       "<style scoped>\n",
       "    .dataframe tbody tr th:only-of-type {\n",
       "        vertical-align: middle;\n",
       "    }\n",
       "\n",
       "    .dataframe tbody tr th {\n",
       "        vertical-align: top;\n",
       "    }\n",
       "\n",
       "    .dataframe thead th {\n",
       "        text-align: right;\n",
       "    }\n",
       "</style>\n",
       "<table border=\"1\" class=\"dataframe\">\n",
       "  <thead>\n",
       "    <tr style=\"text-align: right;\">\n",
       "      <th></th>\n",
       "      <th>Start Time</th>\n",
       "      <th>End Time</th>\n",
       "      <th>Activity ID</th>\n",
       "      <th>Activity Name</th>\n",
       "      <th>Description</th>\n",
       "      <th>Location Name</th>\n",
       "      <th>Time Zone</th>\n",
       "      <th>Offset</th>\n",
       "      <th>Duration (h:m:s)</th>\n",
       "      <th>Elapsed Duration (h:m:s)</th>\n",
       "      <th>...</th>\n",
       "      <th>Avg. Run Cadence</th>\n",
       "      <th>Max. Run Cadence</th>\n",
       "      <th>Stride Length</th>\n",
       "      <th>Steps</th>\n",
       "      <th>Avg. Cadence (rpm)</th>\n",
       "      <th>Max. Cadence (rpm)</th>\n",
       "      <th>Strokes</th>\n",
       "      <th>Avg. Temp (Â°C)</th>\n",
       "      <th>Min. Temp (Â°C)</th>\n",
       "      <th>Max. Temp (Â°C)</th>\n",
       "    </tr>\n",
       "  </thead>\n",
       "  <tbody>\n",
       "    <tr>\n",
       "      <th>4</th>\n",
       "      <td>2021-07-26T20:21:21+01:00</td>\n",
       "      <td>2021-07-26T20:43:18+01:00</td>\n",
       "      <td>7194590649</td>\n",
       "      <td>Southampton Running</td>\n",
       "      <td>NaN</td>\n",
       "      <td>Southampton</td>\n",
       "      <td>Europe/London</td>\n",
       "      <td>+01:00</td>\n",
       "      <td>00:21:20</td>\n",
       "      <td>00:21:57</td>\n",
       "      <td>...</td>\n",
       "      <td>171.31</td>\n",
       "      <td>230.0</td>\n",
       "      <td>137.07</td>\n",
       "      <td>3644.0</td>\n",
       "      <td>NaN</td>\n",
       "      <td>NaN</td>\n",
       "      <td>NaN</td>\n",
       "      <td>NaN</td>\n",
       "      <td>NaN</td>\n",
       "      <td>NaN</td>\n",
       "    </tr>\n",
       "    <tr>\n",
       "      <th>17</th>\n",
       "      <td>2021-05-07T09:05:46+01:00</td>\n",
       "      <td>2021-05-07T11:02:38+01:00</td>\n",
       "      <td>6736651597</td>\n",
       "      <td>New Forest Running</td>\n",
       "      <td>NaN</td>\n",
       "      <td>New Forest</td>\n",
       "      <td>Europe/London</td>\n",
       "      <td>+01:00</td>\n",
       "      <td>01:55:08</td>\n",
       "      <td>01:56:52</td>\n",
       "      <td>...</td>\n",
       "      <td>172.95</td>\n",
       "      <td>206.0</td>\n",
       "      <td>105.49</td>\n",
       "      <td>19988.0</td>\n",
       "      <td>NaN</td>\n",
       "      <td>NaN</td>\n",
       "      <td>NaN</td>\n",
       "      <td>NaN</td>\n",
       "      <td>NaN</td>\n",
       "      <td>NaN</td>\n",
       "    </tr>\n",
       "    <tr>\n",
       "      <th>18</th>\n",
       "      <td>2021-05-03T16:41:07+01:00</td>\n",
       "      <td>2021-05-03T17:00:13+01:00</td>\n",
       "      <td>6716678668</td>\n",
       "      <td>Southampton Running</td>\n",
       "      <td>NaN</td>\n",
       "      <td>Southampton</td>\n",
       "      <td>Europe/London</td>\n",
       "      <td>+01:00</td>\n",
       "      <td>00:18:53</td>\n",
       "      <td>00:19:06</td>\n",
       "      <td>...</td>\n",
       "      <td>168.28</td>\n",
       "      <td>220.0</td>\n",
       "      <td>110.30</td>\n",
       "      <td>3190.0</td>\n",
       "      <td>NaN</td>\n",
       "      <td>NaN</td>\n",
       "      <td>NaN</td>\n",
       "      <td>NaN</td>\n",
       "      <td>NaN</td>\n",
       "      <td>NaN</td>\n",
       "    </tr>\n",
       "    <tr>\n",
       "      <th>19</th>\n",
       "      <td>2021-04-26T18:12:31+01:00</td>\n",
       "      <td>2021-04-26T18:33:19+01:00</td>\n",
       "      <td>6676999033</td>\n",
       "      <td>Southampton Running</td>\n",
       "      <td>NaN</td>\n",
       "      <td>Southampton</td>\n",
       "      <td>Europe/London</td>\n",
       "      <td>+01:00</td>\n",
       "      <td>00:20:10</td>\n",
       "      <td>00:20:48</td>\n",
       "      <td>...</td>\n",
       "      <td>176.64</td>\n",
       "      <td>229.0</td>\n",
       "      <td>140.65</td>\n",
       "      <td>3542.0</td>\n",
       "      <td>NaN</td>\n",
       "      <td>NaN</td>\n",
       "      <td>NaN</td>\n",
       "      <td>NaN</td>\n",
       "      <td>NaN</td>\n",
       "      <td>NaN</td>\n",
       "    </tr>\n",
       "    <tr>\n",
       "      <th>20</th>\n",
       "      <td>2021-04-20T15:55:41+01:00</td>\n",
       "      <td>2021-04-20T16:17:44+01:00</td>\n",
       "      <td>6640539962</td>\n",
       "      <td>Southampton Running</td>\n",
       "      <td>NaN</td>\n",
       "      <td>Southampton</td>\n",
       "      <td>Europe/London</td>\n",
       "      <td>+01:00</td>\n",
       "      <td>00:21:27</td>\n",
       "      <td>00:22:03</td>\n",
       "      <td>...</td>\n",
       "      <td>175.27</td>\n",
       "      <td>219.0</td>\n",
       "      <td>133.31</td>\n",
       "      <td>3742.0</td>\n",
       "      <td>NaN</td>\n",
       "      <td>NaN</td>\n",
       "      <td>NaN</td>\n",
       "      <td>NaN</td>\n",
       "      <td>NaN</td>\n",
       "      <td>NaN</td>\n",
       "    </tr>\n",
       "  </tbody>\n",
       "</table>\n",
       "<p>5 rows × 50 columns</p>\n",
       "</div>"
      ],
      "text/plain": [
       "                   Start Time                   End Time  Activity ID  \\\n",
       "4   2021-07-26T20:21:21+01:00  2021-07-26T20:43:18+01:00   7194590649   \n",
       "17  2021-05-07T09:05:46+01:00  2021-05-07T11:02:38+01:00   6736651597   \n",
       "18  2021-05-03T16:41:07+01:00  2021-05-03T17:00:13+01:00   6716678668   \n",
       "19  2021-04-26T18:12:31+01:00  2021-04-26T18:33:19+01:00   6676999033   \n",
       "20  2021-04-20T15:55:41+01:00  2021-04-20T16:17:44+01:00   6640539962   \n",
       "\n",
       "          Activity Name  Description Location Name      Time Zone  Offset  \\\n",
       "4   Southampton Running          NaN   Southampton  Europe/London  +01:00   \n",
       "17   New Forest Running          NaN    New Forest  Europe/London  +01:00   \n",
       "18  Southampton Running          NaN   Southampton  Europe/London  +01:00   \n",
       "19  Southampton Running          NaN   Southampton  Europe/London  +01:00   \n",
       "20  Southampton Running          NaN   Southampton  Europe/London  +01:00   \n",
       "\n",
       "   Duration (h:m:s) Elapsed Duration (h:m:s)  ... Avg. Run Cadence  \\\n",
       "4          00:21:20                 00:21:57  ...           171.31   \n",
       "17         01:55:08                 01:56:52  ...           172.95   \n",
       "18         00:18:53                 00:19:06  ...           168.28   \n",
       "19         00:20:10                 00:20:48  ...           176.64   \n",
       "20         00:21:27                 00:22:03  ...           175.27   \n",
       "\n",
       "   Max. Run Cadence Stride Length    Steps Avg. Cadence (rpm)  \\\n",
       "4             230.0        137.07   3644.0                NaN   \n",
       "17            206.0        105.49  19988.0                NaN   \n",
       "18            220.0        110.30   3190.0                NaN   \n",
       "19            229.0        140.65   3542.0                NaN   \n",
       "20            219.0        133.31   3742.0                NaN   \n",
       "\n",
       "    Max. Cadence (rpm) Strokes Avg. Temp (Â°C)  Min. Temp (Â°C)  \\\n",
       "4                  NaN     NaN             NaN              NaN   \n",
       "17                 NaN     NaN             NaN              NaN   \n",
       "18                 NaN     NaN             NaN              NaN   \n",
       "19                 NaN     NaN             NaN              NaN   \n",
       "20                 NaN     NaN             NaN              NaN   \n",
       "\n",
       "    Max. Temp (Â°C)  \n",
       "4               NaN  \n",
       "17              NaN  \n",
       "18              NaN  \n",
       "19              NaN  \n",
       "20              NaN  \n",
       "\n",
       "[5 rows x 50 columns]"
      ]
     },
     "execution_count": 20,
     "metadata": {},
     "output_type": "execute_result"
    }
   ],
   "source": [
    "df_running = df_activities[df_activities['Activity Type'] == 'Running'] #creates dataframe of only running data\n",
    "df_running.head()"
   ]
  },
  {
   "cell_type": "code",
   "execution_count": 21,
   "id": "12af41df",
   "metadata": {},
   "outputs": [
    {
     "name": "stdout",
     "output_type": "stream",
     "text": [
      "177.5 Max Avg Run Cadence\n",
      "156.52 Min Avg Run Cadence\n",
      "170.39157894736843 Mean Avg Run Cadence\n"
     ]
    }
   ],
   "source": [
    "print('{} Max Avg Run Cadence'.format(df_running['Avg. Run Cadence'].max()))\n",
    "print('{} Min Avg Run Cadence'.format(df_running['Avg. Run Cadence'].min()))\n",
    "print('{} Mean Avg Run Cadence'.format(df_running['Avg. Run Cadence'].mean()))"
   ]
  },
  {
   "cell_type": "code",
   "execution_count": 22,
   "id": "9b1d752b",
   "metadata": {},
   "outputs": [],
   "source": [
    "df_running_speed = df_running.sort_values('Average Moving Speed (km/h or min/km)')\n",
    "#sorts values from fastest average moving speed to slowest"
   ]
  },
  {
   "cell_type": "code",
   "execution_count": 23,
   "id": "4c7faec1",
   "metadata": {},
   "outputs": [],
   "source": [
    "df_running_speed['Average Moving Speed min/km'] = '00:' + df_running_speed['Average Moving Speed (km/h or min/km)']\n",
    "df_running_speed['Average Moving Speed min/km'] = pd.to_datetime(df_running_speed['Average Moving Speed min/km'])\n",
    "#converts object to datetime to allow accurate plots"
   ]
  },
  {
   "cell_type": "markdown",
   "id": "92afc553",
   "metadata": {},
   "source": [
    "## Exploratory Data Analysis"
   ]
  },
  {
   "cell_type": "code",
   "execution_count": 24,
   "id": "510d36d2",
   "metadata": {},
   "outputs": [
    {
     "data": {
      "text/plain": [
       "<AxesSubplot:xlabel='Average Moving Speed min/km', ylabel='Avg. Run Cadence'>"
      ]
     },
     "execution_count": 24,
     "metadata": {},
     "output_type": "execute_result"
    },
    {
     "data": {
      "image/png": "[encoded data removed]",
      "text/plain": [
       "<Figure size 648x360 with 2 Axes>"
      ]
     },
     "metadata": {
      "needs_background": "light"
     },
     "output_type": "display_data"
    }
   ],
   "source": [
    "df_running_speed.plot.scatter(x='Average Moving Speed min/km', y='Avg. Run Cadence', c='Elevation Gain (m)', cmap='RdBu_r',\n",
    "                             figsize=(9,5))"
   ]
  },
  {
   "cell_type": "markdown",
   "id": "74f39a04",
   "metadata": {},
   "source": [
    "Initially I thought that maybe the fast times but low average cadence may be due to hillier running routes, but seeing from this graph I was wrong! (Southampton is very very flat too!!) I think these are mainly due to measuring issues from my watch so I have discarded them further on."
   ]
  },
  {
   "cell_type": "code",
   "execution_count": 25,
   "id": "b789bd3f",
   "metadata": {},
   "outputs": [
    {
     "data": {
      "text/plain": [
       "<AxesSubplot:xlabel='Average Moving Speed min/km', ylabel='Avg. Run Cadence'>"
      ]
     },
     "execution_count": 25,
     "metadata": {},
     "output_type": "execute_result"
    },
    {
     "data": {
      "image/png": "[encoded data removed]",
      "text/plain": [
       "<Figure size 648x360 with 2 Axes>"
      ]
     },
     "metadata": {
      "needs_background": "light"
     },
     "output_type": "display_data"
    }
   ],
   "source": [
    "df_running_speed.plot.scatter(x='Average Moving Speed min/km', y='Avg. Run Cadence', c='Distance (km)', cmap='RdBu_r',\n",
    "                             figsize=(9,5))"
   ]
  },
  {
   "cell_type": "markdown",
   "id": "11d563bb",
   "metadata": {},
   "source": [
    "This graph is showing that I tend to run longer distances at a slower pace (as expected). The three dots in the middle are from when I tried to implement a running training plan, they're easy pace 10ks, as you can see I only managed 3 whoops."
   ]
  },
  {
   "cell_type": "code",
   "execution_count": 27,
   "id": "686d38cc",
   "metadata": {},
   "outputs": [
    {
     "data": {
      "text/plain": [
       "(149.0, 180.0)"
      ]
     },
     "execution_count": 27,
     "metadata": {},
     "output_type": "execute_result"
    },
    {
     "data": {
      "image/png": "[encoded data removed]",
      "text/plain": [
       "<Figure size 648x360 with 1 Axes>"
      ]
     },
     "metadata": {
      "needs_background": "light"
     },
     "output_type": "display_data"
    }
   ],
   "source": [
    "line = np.linspace(0, 180)\n",
    "x_line = line\n",
    "\n",
    "fig, ax = plt.subplots(figsize=(9,5))\n",
    "df_running_speed.plot.scatter(x='Average Heart Rate (bpm)', y='Avg. Run Cadence', ax=ax)\n",
    "ax.plot(line, x_line, zorder=-1)\n",
    "ax.set_xlim([149, 180])\n",
    "ax.set_ylim([149, 180])"
   ]
  },
  {
   "cell_type": "markdown",
   "id": "98b33879",
   "metadata": {},
   "source": [
    "This plot isn't very useful but it is interesting to see that sometimes my Average Heart Rate is the same as my Average Cadence (although the watches way of measuring both these values is very tenuous)."
   ]
  },
  {
   "cell_type": "markdown",
   "id": "dce2ebe1",
   "metadata": {},
   "source": [
    "## Deciding on Optimal Running Cadence"
   ]
  },
  {
   "cell_type": "markdown",
   "id": "863867c3",
   "metadata": {},
   "source": [
    "The aim for this project is to improve my 5k times, ideally I want to reach the sub 20 5k, currenlty my PB is 20:05 so I am very close. I have also been trialling out barefoot shoes as I experience knee issues. For both these reasons it is ideal to improve the cadence of your run as well as your form (I aim to improve form on a future project).\n",
    "\n",
    "Luckily for me I really enjoy DnB music, which ideally generally has a range of BPM 170-175, this matches up perfectly with my average cadence, as well as the recommend cadence range of 170-180 Steps Per Minute (SPM). I am also a big fan of Hardcore which has a high BPM too, this makes it easier for me to find tracks that I will like within the correct BPM range."
   ]
  },
  {
   "cell_type": "code",
   "execution_count": 28,
   "id": "2db3c4bd",
   "metadata": {},
   "outputs": [],
   "source": [
    "df_running_speed_optimal = df_running_speed[(df_running_speed['Average Moving Speed (km/h or min/km)'] <= '04:10') & \\\n",
    "                                            (df_running_speed['Avg. Run Cadence'] >= 165)] #165 removes the outliers\n",
    "#this finds the cadence for my faster runs of 5k distance, which is what I am trying to improve"
   ]
  },
  {
   "cell_type": "code",
   "execution_count": 29,
   "id": "5c3c0b1e",
   "metadata": {},
   "outputs": [
    {
     "name": "stdout",
     "output_type": "stream",
     "text": [
      "177.5 Max Avg Run Cadence\n",
      "172.34 Min Avg Run Cadence\n",
      "175.32833333333335 Mean Avg Run Cadence\n"
     ]
    }
   ],
   "source": [
    "print('{} Max Avg Run Cadence'.format(df_running_speed_optimal['Avg. Run Cadence'].max()))\n",
    "print('{} Min Avg Run Cadence'.format(df_running_speed_optimal['Avg. Run Cadence'].min()))\n",
    "print('{} Mean Avg Run Cadence'.format(df_running_speed_optimal['Avg. Run Cadence'].mean()))"
   ]
  },
  {
   "cell_type": "code",
   "execution_count": 30,
   "id": "2c36a8fc",
   "metadata": {},
   "outputs": [
    {
     "name": "stdout",
     "output_type": "stream",
     "text": [
      "172 My Measured Lower SPM\n",
      "177 My Measured Upper SPM\n"
     ]
    }
   ],
   "source": [
    "lower_spm = int(df_running_speed_optimal['Avg. Run Cadence'].min())\n",
    "upper_spm = int(df_running_speed_optimal['Avg. Run Cadence'].max())\n",
    "print('{} My Measured Lower SPM'.format(lower_spm))\n",
    "print('{} My Measured Upper SPM'.format(upper_spm))"
   ]
  },
  {
   "cell_type": "markdown",
   "id": "da010c4f",
   "metadata": {},
   "source": [
    "Using these two values in the playlist creation script will make a new playlist that should be easy to run to, as well as make it easy to keep my cadence up. The current range is quite wide so as I try this new playlist and figure out my optimal cadence I can reduce this range to make the cadence hints more targeted."
   ]
  }
 ],
 "metadata": {
  "kernelspec": {
   "display_name": "Python 3",
   "language": "python",
   "name": "python3"
  },
  "language_info": {
   "codemirror_mode": {
    "name": "ipython",
    "version": 3
   },
   "file_extension": ".py",
   "mimetype": "text/x-python",
   "name": "python",
   "nbconvert_exporter": "python",
   "pygments_lexer": "ipython3",
   "version": "3.8.8"
  }
 },
 "nbformat": 4,
 "nbformat_minor": 5
}
